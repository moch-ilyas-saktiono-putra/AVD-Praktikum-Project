{
 "cells": [
  {
   "cell_type": "code",
   "execution_count": 63,
   "metadata": {},
   "outputs": [],
   "source": [
    "# Import library\n",
    "import pandas as pd\n",
    "from sklearn.model_selection import train_test_split\n",
    "from sklearn.tree import DecisionTreeClassifier\n",
    "from sklearn.metrics import accuracy_score, confusion_matrix, classification_report"
   ]
  },
  {
   "cell_type": "code",
   "execution_count": 64,
   "metadata": {},
   "outputs": [
    {
     "name": "stdout",
     "output_type": "stream",
     "text": [
      "     Paling sering membeli di tenant berapa?  \\\n",
      "0                                          0   \n",
      "1                                          1   \n",
      "2                                          0   \n",
      "3                                          2   \n",
      "4                                          2   \n",
      "..                                       ...   \n",
      "97                                         5   \n",
      "98                                         4   \n",
      "99                                         4   \n",
      "100                                        0   \n",
      "101                                        4   \n",
      "\n",
      "     Rata-rata pengeluaran ketika beli di kantin?  Rating  Antri  \\\n",
      "0                                               2       3      0   \n",
      "1                                               2       4      1   \n",
      "2                                               2       2      1   \n",
      "3                                               2       4      1   \n",
      "4                                               1       4      1   \n",
      "..                                            ...     ...    ...   \n",
      "97                                              1       4      1   \n",
      "98                                              1       5      1   \n",
      "99                                              1       3      0   \n",
      "100                                             1       3      1   \n",
      "101                                             1       4      1   \n",
      "\n",
      "     cluster_kmeans  \n",
      "0                 0  \n",
      "1                 0  \n",
      "2                 0  \n",
      "3                 0  \n",
      "4                 0  \n",
      "..              ...  \n",
      "97                1  \n",
      "98                1  \n",
      "99                3  \n",
      "100               0  \n",
      "101               1  \n",
      "\n",
      "[102 rows x 5 columns]\n"
     ]
    }
   ],
   "source": [
    "\n",
    "#Membaca data\n",
    "data = pd.read_csv('Klustering Kantin Kampus C.csv')\n",
    "print(data)"
   ]
  },
  {
   "cell_type": "code",
   "execution_count": 65,
   "metadata": {},
   "outputs": [
    {
     "name": "stdout",
     "output_type": "stream",
     "text": [
      "Random Forest Accuracy: 0.8095238095238095\n",
      "Random Forest Confusion Matrix:\n",
      "[[9 0 0 0]\n",
      " [0 4 0 0]\n",
      " [0 1 0 3]\n",
      " [0 0 0 4]]\n",
      "Random Forest Classification Report:\n",
      "              precision    recall  f1-score   support\n",
      "\n",
      "           0       1.00      1.00      1.00         9\n",
      "           1       0.80      1.00      0.89         4\n",
      "           2       0.00      0.00      0.00         4\n",
      "           3       0.57      1.00      0.73         4\n",
      "\n",
      "    accuracy                           0.81        21\n",
      "   macro avg       0.59      0.75      0.65        21\n",
      "weighted avg       0.69      0.81      0.74        21\n",
      "\n",
      "Predicted Label: 3\n"
     ]
    },
    {
     "name": "stderr",
     "output_type": "stream",
     "text": [
      "c:\\Users\\ILYAS\\AppData\\Local\\Programs\\Python\\Python310\\lib\\site-packages\\sklearn\\metrics\\_classification.py:1344: UndefinedMetricWarning: Precision and F-score are ill-defined and being set to 0.0 in labels with no predicted samples. Use `zero_division` parameter to control this behavior.\n",
      "  _warn_prf(average, modifier, msg_start, len(result))\n",
      "c:\\Users\\ILYAS\\AppData\\Local\\Programs\\Python\\Python310\\lib\\site-packages\\sklearn\\metrics\\_classification.py:1344: UndefinedMetricWarning: Precision and F-score are ill-defined and being set to 0.0 in labels with no predicted samples. Use `zero_division` parameter to control this behavior.\n",
      "  _warn_prf(average, modifier, msg_start, len(result))\n",
      "c:\\Users\\ILYAS\\AppData\\Local\\Programs\\Python\\Python310\\lib\\site-packages\\sklearn\\metrics\\_classification.py:1344: UndefinedMetricWarning: Precision and F-score are ill-defined and being set to 0.0 in labels with no predicted samples. Use `zero_division` parameter to control this behavior.\n",
      "  _warn_prf(average, modifier, msg_start, len(result))\n"
     ]
    }
   ],
   "source": [
    "from sklearn.ensemble import RandomForestClassifier\n",
    "from sklearn.metrics import accuracy_score, confusion_matrix, classification_report\n",
    "from sklearn.model_selection import train_test_split\n",
    "import pandas as pd\n",
    "\n",
    "# Memilih variabel yang akan digunakan untuk klasifikasi\n",
    "features = data[['Paling sering membeli di tenant berapa?',\n",
    "                 'Rata-rata pengeluaran ketika beli di kantin?',\n",
    "                 'Rating', 'Antri']]\n",
    "\n",
    "# Memilih variabel target atau kelas\n",
    "target = data['cluster_kmeans']\n",
    "\n",
    "# Membagi data menjadi data training dan testing (80:20)\n",
    "X_train, X_test, y_train, y_test = train_test_split(features, target, test_size=0.2, random_state=42)\n",
    "\n",
    "# Membuat model Random Forest dengan parameter yang disesuaikan\n",
    "model_rf = RandomForestClassifier(n_estimators=50, max_depth=10, min_samples_leaf=5, random_state=42)\n",
    "\n",
    "# Melatih model menggunakan data training\n",
    "model_rf.fit(X_train, y_train)\n",
    "\n",
    "# Membuat prediksi menggunakan data testing\n",
    "predictions_rf = model_rf.predict(X_test)\n",
    "\n",
    "# Evaluasi performa model\n",
    "accuracy_rf = accuracy_score(y_test, predictions_rf)\n",
    "conf_matrix_rf = confusion_matrix(y_test, predictions_rf)\n",
    "class_report_rf = classification_report(y_test, predictions_rf)\n",
    "\n",
    "# Menampilkan hasil evaluasi\n",
    "print(f'Random Forest Accuracy: {accuracy_rf}')\n",
    "print(f'Random Forest Confusion Matrix:\\n{conf_matrix_rf}')\n",
    "print(f'Random Forest Classification Report:\\n{class_report_rf}')\n",
    "\n",
    "# Fungsi untuk mendapatkan input dari pengguna dan melakukan prediksi\n",
    "def predict_cluster(model):\n",
    "    # Membuat dataframe dengan input pengguna\n",
    "    new_data = pd.DataFrame({\n",
    "        'Paling sering membeli di tenant berapa?': [5],\n",
    "        'Rata-rata pengeluaran ketika beli di kantin?': [1],\n",
    "        'Rating': [2],\n",
    "        'Antri': [0],\n",
    "    })\n",
    "\n",
    "    # Melakukan prediksi dengan model yang sudah dilatih\n",
    "    predicted_label = model.predict(new_data)\n",
    "\n",
    "    # Menampilkan hasil prediksi\n",
    "    print(f'Predicted Label: {predicted_label[0]}')\n",
    "\n",
    "# Memanggil fungsi untuk melakukan prediksi\n",
    "predict_cluster(model_rf)"
   ]
  },
  {
   "cell_type": "code",
   "execution_count": 67,
   "metadata": {},
   "outputs": [
    {
     "data": {
      "text/plain": [
       "['random_forest_model.sav']"
      ]
     },
     "execution_count": 67,
     "metadata": {},
     "output_type": "execute_result"
    }
   ],
   "source": [
    "import joblib\n",
    "\n",
    "# Simpan model ke dalam file\n",
    "joblib.dump(model_rf, 'random_forest_model.sav')"
   ]
  }
 ],
 "metadata": {
  "kernelspec": {
   "display_name": "Python 3",
   "language": "python",
   "name": "python3"
  },
  "language_info": {
   "codemirror_mode": {
    "name": "ipython",
    "version": 3
   },
   "file_extension": ".py",
   "mimetype": "text/x-python",
   "name": "python",
   "nbconvert_exporter": "python",
   "pygments_lexer": "ipython3",
   "version": "3.10.6"
  }
 },
 "nbformat": 4,
 "nbformat_minor": 2
}
